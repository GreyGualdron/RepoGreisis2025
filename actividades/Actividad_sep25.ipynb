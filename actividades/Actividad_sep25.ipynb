{
 "cells": [
  {
   "cell_type": "markdown",
   "id": "5a43ef4e",
   "metadata": {},
   "source": [
    "## 📝 Prompt\n",
    "\n",
    "Crea un programa en Python que registre productos y calcule información de la compra. \n",
    "\n",
    "1. Pedir al usuario el nombre y precio de tres productos. \n",
    "2. Guardar los datos en una estructura que permita acceder tanto al nombre como al precio. \n",
    "3. Calcular el total a pagar. \n",
    "4. Mostrar la lista de productos y el total. \n",
    "\n",
    "Por favor, no uses estructuras complicadas de programación, solo diccionarios, inputs y operaciones básicas. Sin ciclos."
   ]
  },
  {
   "cell_type": "code",
   "execution_count": 1,
   "id": "c8887014",
   "metadata": {},
   "outputs": [
    {
     "name": "stdout",
     "output_type": "stream",
     "text": [
      "\n",
      "--- Lista de productos ---\n",
      "Arroz: $30.00\n",
      "Pasta: $30.00\n",
      "Carne: $200.00\n",
      "\n",
      "Total a pagar: $260.00\n"
     ]
    }
   ],
   "source": [
    "# Programa para registrar productos y calcular total de compra\n",
    "\n",
    "# Pedir datos de tres productos\n",
    "nombre1 = input(\"Ingrese el nombre del producto 1: \")\n",
    "precio1 = float(input(f\"Ingrese el precio de {nombre1}: \"))\n",
    "\n",
    "nombre2 = input(\"Ingrese el nombre del producto 2: \")\n",
    "precio2 = float(input(f\"Ingrese el precio de {nombre2}: \"))\n",
    "\n",
    "nombre3 = input(\"Ingrese el nombre del producto 3: \")\n",
    "precio3 = float(input(f\"Ingrese el precio de {nombre3}: \"))\n",
    "\n",
    "# Guardar en un diccionario\n",
    "productos = {\n",
    "    nombre1: precio1,\n",
    "    nombre2: precio2,\n",
    "    nombre3: precio3\n",
    "}\n",
    "\n",
    "# Calcular el total\n",
    "total = precio1 + precio2 + precio3\n",
    "\n",
    "# Mostrar resultados\n",
    "print(\"\\n--- Lista de productos ---\")\n",
    "print(f\"{nombre1}: ${precio1:.2f}\")\n",
    "print(f\"{nombre2}: ${precio2:.2f}\")\n",
    "print(f\"{nombre3}: ${precio3:.2f}\")\n",
    "print(f\"\\nTotal a pagar: ${total:.2f}\")\n"
   ]
  },
  {
   "cell_type": "markdown",
   "id": "ad16a1ec",
   "metadata": {},
   "source": [
    "### 🛠️ Mejora\n",
    "\n",
    "Los productos serán colocados en una lista de diccionarios. Su utilidad radica en que en un diccionario simple como `{nombre: precio}`, no puedes tener dos productos con el mismo nombre (la clave debe ser única). Pero en una lista de diccionarios, sí puedes guardar productos repetidos, porque cada entrada es independiente. Podrías añadir muchos más productos sin cambiar la estructura, así como añadir categorías adicionales como proveedor, fecha de vencimiento, entre otras. Además, si en el futuro usas ciclos, recorrer la lista sería más natural y legible."
   ]
  },
  {
   "cell_type": "code",
   "execution_count": 2,
   "id": "57ce8123",
   "metadata": {},
   "outputs": [
    {
     "name": "stdout",
     "output_type": "stream",
     "text": [
      "\n",
      "--- Lista de productos ---\n",
      "Arroz: $20.00\n",
      "Arroz: $50.00\n",
      "Carne: $200.00\n",
      "\n",
      "Total a pagar: $270.00\n"
     ]
    }
   ],
   "source": [
    "# Programa para registrar productos y calcular total de compra\n",
    "\n",
    "# Pedir datos de tres productos\n",
    "nombre1 = input(\"Ingrese el nombre del producto 1: \")\n",
    "precio1 = float(input(f\"Ingrese el precio de {nombre1}: \"))\n",
    "\n",
    "nombre2 = input(\"Ingrese el nombre del producto 2: \")\n",
    "precio2 = float(input(f\"Ingrese el precio de {nombre2}: \"))\n",
    "\n",
    "nombre3 = input(\"Ingrese el nombre del producto 3: \")\n",
    "precio3 = float(input(f\"Ingrese el precio de {nombre3}: \"))\n",
    "\n",
    "# Guardar en una lista de diccionarios\n",
    "productos = [\n",
    "    {\"nombre\": nombre1, \"precio\": precio1},\n",
    "    {\"nombre\": nombre2, \"precio\": precio2},\n",
    "    {\"nombre\": nombre3, \"precio\": precio3}\n",
    "]\n",
    "\n",
    "# Calcular el total\n",
    "total = precio1 + precio2 + precio3\n",
    "\n",
    "# Mostrar resultados\n",
    "print(\"\\n--- Lista de productos ---\")\n",
    "print(f\"{productos[0]['nombre']}: ${productos[0]['precio']:.2f}\")\n",
    "print(f\"{productos[1]['nombre']}: ${productos[1]['precio']:.2f}\")\n",
    "print(f\"{productos[2]['nombre']}: ${productos[2]['precio']:.2f}\")\n",
    "\n",
    "print(f\"\\nTotal a pagar: ${total:.2f}\")"
   ]
  },
  {
   "cell_type": "markdown",
   "id": "51178ae3",
   "metadata": {},
   "source": [
    "### ❓ Aclaración sobre el código\n",
    "\n",
    "En las líneas finales aparece un término **: .f**, este es un formato de número en Python dentro de *f-string*.\n",
    "\n",
    "**Explicación:**\n",
    "\n",
    "* `f\" ... \"`  indica que es un f-string (formateo de cadenas).\n",
    "\n",
    "* `{productos[0]['precio']}`  inserta el valor del precio en la cadena.\n",
    "\n",
    "* `:.2f`  le dice a Python cómo mostrar ese número:\n",
    "\n",
    "    * `.2`  mostrar 2 decimales.\n",
    "\n",
    "    * `f`  formato flotante (número decimal)."
   ]
  },
  {
   "cell_type": "markdown",
   "id": "c9184421",
   "metadata": {},
   "source": []
  }
 ],
 "metadata": {
  "kernelspec": {
   "display_name": "base",
   "language": "python",
   "name": "python3"
  },
  "language_info": {
   "codemirror_mode": {
    "name": "ipython",
    "version": 3
   },
   "file_extension": ".py",
   "mimetype": "text/x-python",
   "name": "python",
   "nbconvert_exporter": "python",
   "pygments_lexer": "ipython3",
   "version": "3.13.5"
  }
 },
 "nbformat": 4,
 "nbformat_minor": 5
}
